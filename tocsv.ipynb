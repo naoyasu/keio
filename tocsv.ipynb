{
 "cells": [
  {
   "cell_type": "code",
   "execution_count": 8,
   "id": "05cefdab",
   "metadata": {},
   "outputs": [],
   "source": [
    "import pandas as pd\n",
    "import os\n",
    "\n",
    "# Excelファイルが保存されているディレクトリのパスを指定\n",
    "directory_path = 'C:\\\\bankdata\\\\tousan\\\\tantai'\n",
    "\n",
    "# ディレクトリ内のすべてのExcelファイルをループで処理\n",
    "for filename in os.listdir(directory_path):\n",
    "    if filename.endswith(\".xlsx\") or filename.endswith(\".xls\"):\n",
    "        file_path = os.path.join(directory_path, filename)\n",
    "        excel_data = pd.ExcelFile(file_path)\n",
    "        \n",
    "        # すべてのシートのデータを結合するための空のリストを作成\n",
    "        df_list = []\n",
    "        \n",
    "        # 各シートのデータをループして結合\n",
    "        for sheet_name in excel_data.sheet_names:\n",
    "            # シートのデータを読み込む\n",
    "            df = pd.read_excel(excel_data, sheet_name=sheet_name)\n",
    "            # シート名の列を追加（元のシートを特定するため）\n",
    "            df['SheetName'] = sheet_name\n",
    "            # リストに追加\n",
    "            df_list.append(df)\n",
    "        \n",
    "        # すべてのデータフレームを結合\n",
    "        combined_df = pd.concat(df_list, ignore_index=True)\n",
    "        \n",
    "        # 保存するCSVファイルのパス（拡張子を.csvに変更）\n",
    "        csv_filename = filename.replace('.xlsx', '.csv').replace('.xls', '.csv')\n",
    "        csv_file_path = os.path.join(directory_path, csv_filename)\n",
    "        \n",
    "        # 結合したデータをCSVファイルとして保存（エンコーディング指定）\n",
    "        combined_df.to_csv(csv_file_path, index=False, encoding='utf-8-sig')  # UTF-8で保存、Excel互換のBOM付き\n",
    "        \n",
    "        print(f\"{filename} のシートを結合して {csv_filename} に保存しました。\")\n"
   ]
  },
  {
   "cell_type": "code",
   "execution_count": 10,
   "id": "23906561-b1fb-4ecb-99ef-0ead2d63b872",
   "metadata": {},
   "outputs": [
    {
     "name": "stdout",
     "output_type": "stream",
     "text": [
      "\n",
      "=== 証券番号の重複チェック結果 ===\n",
      "\n",
      "⚠ 重複: 証券番号 2228 が 2 件見つかりました:\n",
      " - C:/bankdata/tousan/tantai/2228_901_zaimu_-20180831_全体.csv\n",
      " - C:/bankdata/hitousan/tantai/2228_901_zaimu_-20150831_全体.csv\n",
      "\n",
      "⚠ 重複: 証券番号 E04725 が 2 件見つかりました:\n",
      " - C:/bankdata/tousan/tantai/E04725_901_zaimu_-20160331_全体.csv\n",
      " - C:/bankdata/hitousan/tantai/E04725_xxxx_zaimu_901_-20120331.csv\n"
     ]
    }
   ],
   "source": [
    "import os\n",
    "import re\n",
    "from collections import defaultdict\n",
    "\n",
    "# フォルダ定義\n",
    "folders = {\n",
    "    '倒産かつ連結': 'C:/bankdata/tousan/renketsu/',\n",
    "    '倒産かつ単体': 'C:/bankdata/tousan/tantai/',\n",
    "    '非倒産かつ連結': 'C:/bankdata/hitousan/renketsu/',\n",
    "    '非倒産かつ単体': 'C:/bankdata/hitousan/tantai/'\n",
    "}\n",
    "\n",
    "# 証券番号の出現記録\n",
    "code_map = defaultdict(list)\n",
    "\n",
    "# 各ファイルの証券番号を抽出して記録\n",
    "for category, folder_path in folders.items():\n",
    "    for filename in os.listdir(folder_path):\n",
    "        if filename.endswith(\".csv\"):\n",
    "            match = re.match(r'(E?\\d{4,5})', filename)\n",
    "            if match:\n",
    "                code = match.group(1)\n",
    "                full_path = os.path.join(folder_path, filename)\n",
    "                code_map[code].append(full_path)\n",
    "\n",
    "# 重複チェック\n",
    "print(\"\\n=== 証券番号の重複チェック結果 ===\")\n",
    "duplicate_found = False\n",
    "for code, paths in code_map.items():\n",
    "    if len(paths) > 1:\n",
    "        duplicate_found = True\n",
    "        print(f\"\\n⚠ 重複: 証券番号 {code} が {len(paths)} 件見つかりました:\")\n",
    "        for path in paths:\n",
    "            print(f\" - {path}\")\n",
    "\n",
    "if not duplicate_found:\n",
    "    print(\"✅ 重複は検出されませんでした。\")"
   ]
  },
  {
   "cell_type": "code",
   "execution_count": null,
   "id": "249bbe00-5c62-4404-8511-5bb9064d451a",
   "metadata": {},
   "outputs": [],
   "source": []
  }
 ],
 "metadata": {
  "kernelspec": {
   "display_name": "Python 3 (ipykernel)",
   "language": "python",
   "name": "python3"
  },
  "language_info": {
   "codemirror_mode": {
    "name": "ipython",
    "version": 3
   },
   "file_extension": ".py",
   "mimetype": "text/x-python",
   "name": "python",
   "nbconvert_exporter": "python",
   "pygments_lexer": "ipython3",
   "version": "3.10.9"
  }
 },
 "nbformat": 4,
 "nbformat_minor": 5
}
